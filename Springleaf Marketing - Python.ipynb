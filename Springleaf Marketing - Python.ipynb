{
 "cells": [
  {
   "cell_type": "code",
   "execution_count": 1,
   "metadata": {
    "collapsed": true
   },
   "outputs": [],
   "source": [
    "import pandas as pd\n",
    "import numpy as np"
   ]
  },
  {
   "cell_type": "code",
   "execution_count": 2,
   "metadata": {
    "collapsed": false
   },
   "outputs": [],
   "source": [
    "## Get Target columns from csv file\n",
    "df_target = pd.read_csv(\"train/train.csv\",usecols = range(1933,1934))"
   ]
  },
  {
   "cell_type": "code",
   "execution_count": 3,
   "metadata": {
    "collapsed": false
   },
   "outputs": [
    {
     "data": {
      "text/html": [
       "<div>\n",
       "<table border=\"1\" class=\"dataframe\">\n",
       "  <thead>\n",
       "    <tr style=\"text-align: right;\">\n",
       "      <th></th>\n",
       "      <th>target</th>\n",
       "    </tr>\n",
       "  </thead>\n",
       "  <tbody>\n",
       "    <tr>\n",
       "      <th>0</th>\n",
       "      <td>0</td>\n",
       "    </tr>\n",
       "    <tr>\n",
       "      <th>1</th>\n",
       "      <td>0</td>\n",
       "    </tr>\n",
       "    <tr>\n",
       "      <th>2</th>\n",
       "      <td>0</td>\n",
       "    </tr>\n",
       "    <tr>\n",
       "      <th>3</th>\n",
       "      <td>0</td>\n",
       "    </tr>\n",
       "    <tr>\n",
       "      <th>4</th>\n",
       "      <td>1</td>\n",
       "    </tr>\n",
       "  </tbody>\n",
       "</table>\n",
       "</div>"
      ],
      "text/plain": [
       "   target\n",
       "0       0\n",
       "1       0\n",
       "2       0\n",
       "3       0\n",
       "4       1"
      ]
     },
     "execution_count": 3,
     "metadata": {},
     "output_type": "execute_result"
    }
   ],
   "source": [
    "df_target.head()"
   ]
  },
  {
   "cell_type": "code",
   "execution_count": 4,
   "metadata": {
    "collapsed": false
   },
   "outputs": [
    {
     "name": "stderr",
     "output_type": "stream",
     "text": [
      "C:\\Users\\Brian\\Miniconda2\\lib\\site-packages\\IPython\\core\\interactiveshell.py:2717: DtypeWarning: Columns (8,9) have mixed types. Specify dtype option on import or set low_memory=False.\n",
      "  interactivity=interactivity, compiler=compiler, result=result)\n"
     ]
    }
   ],
   "source": [
    "## Get first 10 data columns\n",
    "df=pd.read_csv(\"train/train.csv\",usecols=range(1,10))"
   ]
  },
  {
   "cell_type": "code",
   "execution_count": 5,
   "metadata": {
    "collapsed": false
   },
   "outputs": [
    {
     "data": {
      "text/html": [
       "<div>\n",
       "<table border=\"1\" class=\"dataframe\">\n",
       "  <thead>\n",
       "    <tr style=\"text-align: right;\">\n",
       "      <th></th>\n",
       "      <th>0</th>\n",
       "      <th>1</th>\n",
       "      <th>2</th>\n",
       "      <th>3</th>\n",
       "      <th>4</th>\n",
       "    </tr>\n",
       "  </thead>\n",
       "  <tbody>\n",
       "    <tr>\n",
       "      <th>VAR_0001</th>\n",
       "      <td>H</td>\n",
       "      <td>H</td>\n",
       "      <td>H</td>\n",
       "      <td>H</td>\n",
       "      <td>R</td>\n",
       "    </tr>\n",
       "    <tr>\n",
       "      <th>VAR_0002</th>\n",
       "      <td>224</td>\n",
       "      <td>7</td>\n",
       "      <td>116</td>\n",
       "      <td>240</td>\n",
       "      <td>72</td>\n",
       "    </tr>\n",
       "    <tr>\n",
       "      <th>VAR_0003</th>\n",
       "      <td>0</td>\n",
       "      <td>53</td>\n",
       "      <td>3</td>\n",
       "      <td>300</td>\n",
       "      <td>261</td>\n",
       "    </tr>\n",
       "    <tr>\n",
       "      <th>VAR_0004</th>\n",
       "      <td>4300</td>\n",
       "      <td>4448</td>\n",
       "      <td>3464</td>\n",
       "      <td>3200</td>\n",
       "      <td>2000</td>\n",
       "    </tr>\n",
       "    <tr>\n",
       "      <th>VAR_0005</th>\n",
       "      <td>C</td>\n",
       "      <td>B</td>\n",
       "      <td>C</td>\n",
       "      <td>C</td>\n",
       "      <td>N</td>\n",
       "    </tr>\n",
       "    <tr>\n",
       "      <th>VAR_0006</th>\n",
       "      <td>0</td>\n",
       "      <td>1</td>\n",
       "      <td>0</td>\n",
       "      <td>0</td>\n",
       "      <td>0</td>\n",
       "    </tr>\n",
       "    <tr>\n",
       "      <th>VAR_0007</th>\n",
       "      <td>0</td>\n",
       "      <td>0</td>\n",
       "      <td>0</td>\n",
       "      <td>0</td>\n",
       "      <td>0</td>\n",
       "    </tr>\n",
       "    <tr>\n",
       "      <th>VAR_0008</th>\n",
       "      <td>False</td>\n",
       "      <td>False</td>\n",
       "      <td>False</td>\n",
       "      <td>False</td>\n",
       "      <td>False</td>\n",
       "    </tr>\n",
       "    <tr>\n",
       "      <th>VAR_0009</th>\n",
       "      <td>False</td>\n",
       "      <td>False</td>\n",
       "      <td>False</td>\n",
       "      <td>False</td>\n",
       "      <td>False</td>\n",
       "    </tr>\n",
       "  </tbody>\n",
       "</table>\n",
       "</div>"
      ],
      "text/plain": [
       "              0      1      2      3      4\n",
       "VAR_0001      H      H      H      H      R\n",
       "VAR_0002    224      7    116    240     72\n",
       "VAR_0003      0     53      3    300    261\n",
       "VAR_0004   4300   4448   3464   3200   2000\n",
       "VAR_0005      C      B      C      C      N\n",
       "VAR_0006      0      1      0      0      0\n",
       "VAR_0007      0      0      0      0      0\n",
       "VAR_0008  False  False  False  False  False\n",
       "VAR_0009  False  False  False  False  False"
      ]
     },
     "execution_count": 5,
     "metadata": {},
     "output_type": "execute_result"
    }
   ],
   "source": [
    "## Show first row values (Transposed)\n",
    "df.head().T"
   ]
  },
  {
   "cell_type": "code",
   "execution_count": 6,
   "metadata": {
    "collapsed": true
   },
   "outputs": [],
   "source": [
    "## Add target column to data frame\n",
    "df = pd.concat([df, df_target], axis=1, join_axes=[df.index])"
   ]
  },
  {
   "cell_type": "code",
   "execution_count": 7,
   "metadata": {
    "collapsed": false
   },
   "outputs": [
    {
     "data": {
      "text/plain": [
       "VAR_0001     object\n",
       "VAR_0002      int64\n",
       "VAR_0003      int64\n",
       "VAR_0004      int64\n",
       "VAR_0005     object\n",
       "VAR_0006    float64\n",
       "VAR_0007    float64\n",
       "VAR_0008     object\n",
       "VAR_0009     object\n",
       "target        int64\n",
       "dtype: object"
      ]
     },
     "execution_count": 7,
     "metadata": {},
     "output_type": "execute_result"
    }
   ],
   "source": [
    "## Examine datatypes - will need to convert objects to numeric\n",
    "df.dtypes"
   ]
  },
  {
   "cell_type": "code",
   "execution_count": 13,
   "metadata": {
    "collapsed": false
   },
   "outputs": [
    {
     "name": "stdout",
     "output_type": "stream",
     "text": [
      "VAR_0001 3\n",
      "VAR_0005 4\n",
      "VAR_0008 2\n",
      "VAR_0009 2\n"
     ]
    }
   ],
   "source": [
    "## Check for the number of unique values for each of the 'object' columns\n",
    "\n",
    "max_unique_vals =2  # Set maximum unique values for 'object' columns\n",
    "    # We don't want to create too many normalized columns\n",
    "df_ohe_list =[]  # Prepare list for one-hot-encoding\n",
    "df_drop_list=[]  # Prepare list for columns to drop\n",
    "for i in df.columns.values:\n",
    "    if df[i].dtype == 'object':\n",
    "        print i, len(df[i].unique())\n",
    "        if (len(df[i].unique())) > max_unique_vals:\n",
    "            df_drop_list.append(i)\n",
    "        else:\n",
    "            df_ohe_list.append(i)"
   ]
  },
  {
   "cell_type": "code",
   "execution_count": 14,
   "metadata": {
    "collapsed": false
   },
   "outputs": [
    {
     "data": {
      "text/plain": [
       "['VAR_0001', 'VAR_0005']"
      ]
     },
     "execution_count": 14,
     "metadata": {},
     "output_type": "execute_result"
    }
   ],
   "source": [
    "df_drop_list"
   ]
  },
  {
   "cell_type": "code",
   "execution_count": 20,
   "metadata": {
    "collapsed": false
   },
   "outputs": [],
   "source": [
    "## Drop dataframe columns with two many categorical values\n",
    "df=df.drop(df_drop_list,axis=1)"
   ]
  },
  {
   "cell_type": "code",
   "execution_count": 15,
   "metadata": {
    "collapsed": false
   },
   "outputs": [],
   "source": [
    "## Apply One-Hot Encoding to the 'object' columns\n",
    "df=pd.get_dummies(df,columns=df_ohe_list)"
   ]
  },
  {
   "cell_type": "code",
   "execution_count": 21,
   "metadata": {
    "collapsed": false
   },
   "outputs": [
    {
     "data": {
      "text/html": [
       "<div>\n",
       "<table border=\"1\" class=\"dataframe\">\n",
       "  <thead>\n",
       "    <tr style=\"text-align: right;\">\n",
       "      <th></th>\n",
       "      <th>0</th>\n",
       "      <th>1</th>\n",
       "      <th>2</th>\n",
       "      <th>3</th>\n",
       "      <th>4</th>\n",
       "    </tr>\n",
       "  </thead>\n",
       "  <tbody>\n",
       "    <tr>\n",
       "      <th>VAR_0002</th>\n",
       "      <td>224.0</td>\n",
       "      <td>7.0</td>\n",
       "      <td>116.0</td>\n",
       "      <td>240.0</td>\n",
       "      <td>72.0</td>\n",
       "    </tr>\n",
       "    <tr>\n",
       "      <th>VAR_0003</th>\n",
       "      <td>0.0</td>\n",
       "      <td>53.0</td>\n",
       "      <td>3.0</td>\n",
       "      <td>300.0</td>\n",
       "      <td>261.0</td>\n",
       "    </tr>\n",
       "    <tr>\n",
       "      <th>VAR_0004</th>\n",
       "      <td>4300.0</td>\n",
       "      <td>4448.0</td>\n",
       "      <td>3464.0</td>\n",
       "      <td>3200.0</td>\n",
       "      <td>2000.0</td>\n",
       "    </tr>\n",
       "    <tr>\n",
       "      <th>VAR_0006</th>\n",
       "      <td>0.0</td>\n",
       "      <td>1.0</td>\n",
       "      <td>0.0</td>\n",
       "      <td>0.0</td>\n",
       "      <td>0.0</td>\n",
       "    </tr>\n",
       "    <tr>\n",
       "      <th>VAR_0007</th>\n",
       "      <td>0.0</td>\n",
       "      <td>0.0</td>\n",
       "      <td>0.0</td>\n",
       "      <td>0.0</td>\n",
       "      <td>0.0</td>\n",
       "    </tr>\n",
       "    <tr>\n",
       "      <th>target</th>\n",
       "      <td>0.0</td>\n",
       "      <td>0.0</td>\n",
       "      <td>0.0</td>\n",
       "      <td>0.0</td>\n",
       "      <td>1.0</td>\n",
       "    </tr>\n",
       "    <tr>\n",
       "      <th>VAR_0008_False</th>\n",
       "      <td>1.0</td>\n",
       "      <td>1.0</td>\n",
       "      <td>1.0</td>\n",
       "      <td>1.0</td>\n",
       "      <td>1.0</td>\n",
       "    </tr>\n",
       "    <tr>\n",
       "      <th>VAR_0009_False</th>\n",
       "      <td>1.0</td>\n",
       "      <td>1.0</td>\n",
       "      <td>1.0</td>\n",
       "      <td>1.0</td>\n",
       "      <td>1.0</td>\n",
       "    </tr>\n",
       "  </tbody>\n",
       "</table>\n",
       "</div>"
      ],
      "text/plain": [
       "                     0       1       2       3       4\n",
       "VAR_0002         224.0     7.0   116.0   240.0    72.0\n",
       "VAR_0003           0.0    53.0     3.0   300.0   261.0\n",
       "VAR_0004        4300.0  4448.0  3464.0  3200.0  2000.0\n",
       "VAR_0006           0.0     1.0     0.0     0.0     0.0\n",
       "VAR_0007           0.0     0.0     0.0     0.0     0.0\n",
       "target             0.0     0.0     0.0     0.0     1.0\n",
       "VAR_0008_False     1.0     1.0     1.0     1.0     1.0\n",
       "VAR_0009_False     1.0     1.0     1.0     1.0     1.0"
      ]
     },
     "execution_count": 21,
     "metadata": {},
     "output_type": "execute_result"
    }
   ],
   "source": [
    "## Examine data frame\n",
    "df.head().T"
   ]
  },
  {
   "cell_type": "code",
   "execution_count": 25,
   "metadata": {
    "collapsed": false
   },
   "outputs": [
    {
     "name": "stdout",
     "output_type": "stream",
     "text": [
      "count    132253.000000\n",
      "mean         90.351221\n",
      "std          97.332864\n",
      "min           0.000000\n",
      "2%            2.000000\n",
      "5%            4.000000\n",
      "25%          23.000000\n",
      "50%          60.000000\n",
      "75%         125.000000\n",
      "95%         300.000000\n",
      "98%         393.000000\n",
      "max         523.000000\n",
      "Name: VAR_0002, dtype: float64\n",
      "count    132253.000000\n",
      "mean         75.460042\n",
      "std          78.662328\n",
      "min           0.000000\n",
      "2%            0.000000\n",
      "5%            0.000000\n",
      "25%          13.000000\n",
      "50%          53.000000\n",
      "75%         112.000000\n",
      "95%         244.000000\n",
      "98%         303.000000\n",
      "max         385.000000\n",
      "Name: VAR_0003, dtype: float64\n",
      "count    132253.000000\n",
      "mean       2810.042419\n",
      "std        1568.609275\n",
      "min           0.000000\n",
      "2%            0.000000\n",
      "5%          961.000000\n",
      "25%        1761.000000\n",
      "50%        2500.000000\n",
      "75%        3500.000000\n",
      "95%        5800.000000\n",
      "98%        7200.000000\n",
      "max       11421.000000\n",
      "Name: VAR_0004, dtype: float64\n",
      "count    132253.000000\n",
      "mean          0.500087\n",
      "std           0.950166\n",
      "min           0.000000\n",
      "2%            0.000000\n",
      "5%            0.000000\n",
      "25%           0.000000\n",
      "50%           0.000000\n",
      "75%           1.000000\n",
      "95%           3.000000\n",
      "98%           4.000000\n",
      "max           5.000000\n",
      "Name: VAR_0006, dtype: float64\n",
      "count    132253.000000\n",
      "mean          0.378267\n",
      "std           0.675381\n",
      "min           0.000000\n",
      "2%            0.000000\n",
      "5%            0.000000\n",
      "25%           0.000000\n",
      "50%           0.000000\n",
      "75%           1.000000\n",
      "95%           2.000000\n",
      "98%           2.000000\n",
      "max           3.000000\n",
      "Name: VAR_0007, dtype: float64\n",
      "count    132253.000000\n",
      "mean          0.224517\n",
      "std           0.417265\n",
      "min           0.000000\n",
      "2%            0.000000\n",
      "5%            0.000000\n",
      "25%           0.000000\n",
      "50%           0.000000\n",
      "75%           0.000000\n",
      "95%           1.000000\n",
      "98%           1.000000\n",
      "max           1.000000\n",
      "Name: target, dtype: float64\n",
      "count    132253.0\n",
      "mean          1.0\n",
      "std           0.0\n",
      "min           1.0\n",
      "2%            1.0\n",
      "5%            1.0\n",
      "25%           1.0\n",
      "50%           1.0\n",
      "75%           1.0\n",
      "95%           1.0\n",
      "98%           1.0\n",
      "max           1.0\n",
      "Name: VAR_0008_False, dtype: float64\n",
      "count    132253.0\n",
      "mean          1.0\n",
      "std           0.0\n",
      "min           1.0\n",
      "2%            1.0\n",
      "5%            1.0\n",
      "25%           1.0\n",
      "50%           1.0\n",
      "75%           1.0\n",
      "95%           1.0\n",
      "98%           1.0\n",
      "max           1.0\n",
      "Name: VAR_0009_False, dtype: float64\n"
     ]
    }
   ],
   "source": [
    "## Identify columns with outliers\n",
    "for i in df.columns:\n",
    "    print df[i].describe(percentiles = [.02,.05,.25, .5, .75,.95,.98])"
   ]
  },
  {
   "cell_type": "code",
   "execution_count": 23,
   "metadata": {
    "collapsed": false
   },
   "outputs": [
    {
     "name": "stdout",
     "output_type": "stream",
     "text": [
      "VAR_0002 523.0\n",
      "142330\n",
      "VAR_0003 385.0\n",
      "139496\n",
      "VAR_0004 11421.4\n",
      "136706\n",
      "VAR_0006 5.0\n",
      "133970\n",
      "VAR_0007 3.0\n",
      "132253\n",
      "target 1.0\n",
      "132253\n",
      "VAR_0008_False 1.0\n",
      "132253\n",
      "VAR_0009_False 1.0\n",
      "132253\n"
     ]
    }
   ],
   "source": [
    "## Handling Outliers - remove any values outside of the 98 percentile\n",
    "## Statistically there is probably a better way to handle this, open for suggestions.\n",
    "\n",
    "## Show any rows beyond the 98 percentile\n",
    "\n",
    "for i in df.columns:\n",
    "    print i,df[i].quantile(.98)\n",
    "    print df[df[i]<=df[i].quantile(.98)].count().max()\n",
    "    df = df[df[i]<=df[i].quantile(.98)]"
   ]
  },
  {
   "cell_type": "code",
   "execution_count": 26,
   "metadata": {
    "collapsed": false
   },
   "outputs": [],
   "source": [
    "## Identify columns with nan and replace with the mean for that column\n",
    "for i in df.columns:\n",
    "    if (pd.isnull(df[i]).sum() > 0):\n",
    "        mean = df[i].mean()\n",
    "        df[i]=df[i].fillna(mean)"
   ]
  },
  {
   "cell_type": "code",
   "execution_count": 28,
   "metadata": {
    "collapsed": false
   },
   "outputs": [
    {
     "name": "stdout",
     "output_type": "stream",
     "text": [
      "VAR_0002\n",
      "0\n",
      "523\n",
      "523\n",
      "VAR_0003\n",
      "0\n",
      "385\n",
      "385\n",
      "VAR_0004\n",
      "0\n",
      "11421\n",
      "11421\n",
      "VAR_0006\n",
      "0.0\n",
      "5.0\n",
      "5.0\n",
      "VAR_0007\n",
      "0.0\n",
      "3.0\n",
      "3.0\n",
      "target\n",
      "0\n",
      "1\n",
      "1\n",
      "VAR_0008_False\n",
      "1\n",
      "1\n",
      "0\n",
      "VAR_0009_False\n",
      "1\n",
      "1\n",
      "0\n"
     ]
    }
   ],
   "source": [
    "## Min max scaler\n",
    "for i in df.columns:\n",
    "    print i\n",
    "    col_min = df[i].min()\n",
    "    print col_min\n",
    "    col_max = df[i].max()\n",
    "    print col_max\n",
    "    col_range = col_max-col_min\n",
    "    print col_range\n",
    "    if col_range>0:\n",
    "        df[i]=(df[i]-col_min)/col_range\n",
    "    "
   ]
  },
  {
   "cell_type": "code",
   "execution_count": 29,
   "metadata": {
    "collapsed": false
   },
   "outputs": [
    {
     "data": {
      "text/html": [
       "<div>\n",
       "<table border=\"1\" class=\"dataframe\">\n",
       "  <thead>\n",
       "    <tr style=\"text-align: right;\">\n",
       "      <th></th>\n",
       "      <th>0</th>\n",
       "      <th>1</th>\n",
       "      <th>2</th>\n",
       "      <th>3</th>\n",
       "      <th>4</th>\n",
       "    </tr>\n",
       "  </thead>\n",
       "  <tbody>\n",
       "    <tr>\n",
       "      <th>VAR_0002</th>\n",
       "      <td>0.428298</td>\n",
       "      <td>0.013384</td>\n",
       "      <td>0.221797</td>\n",
       "      <td>0.458891</td>\n",
       "      <td>0.137667</td>\n",
       "    </tr>\n",
       "    <tr>\n",
       "      <th>VAR_0003</th>\n",
       "      <td>0.000000</td>\n",
       "      <td>0.137662</td>\n",
       "      <td>0.007792</td>\n",
       "      <td>0.779221</td>\n",
       "      <td>0.677922</td>\n",
       "    </tr>\n",
       "    <tr>\n",
       "      <th>VAR_0004</th>\n",
       "      <td>0.376499</td>\n",
       "      <td>0.389458</td>\n",
       "      <td>0.303301</td>\n",
       "      <td>0.280186</td>\n",
       "      <td>0.175116</td>\n",
       "    </tr>\n",
       "    <tr>\n",
       "      <th>VAR_0006</th>\n",
       "      <td>0.000000</td>\n",
       "      <td>0.200000</td>\n",
       "      <td>0.000000</td>\n",
       "      <td>0.000000</td>\n",
       "      <td>0.000000</td>\n",
       "    </tr>\n",
       "    <tr>\n",
       "      <th>VAR_0007</th>\n",
       "      <td>0.000000</td>\n",
       "      <td>0.000000</td>\n",
       "      <td>0.000000</td>\n",
       "      <td>0.000000</td>\n",
       "      <td>0.000000</td>\n",
       "    </tr>\n",
       "    <tr>\n",
       "      <th>target</th>\n",
       "      <td>0.000000</td>\n",
       "      <td>0.000000</td>\n",
       "      <td>0.000000</td>\n",
       "      <td>0.000000</td>\n",
       "      <td>1.000000</td>\n",
       "    </tr>\n",
       "    <tr>\n",
       "      <th>VAR_0008_False</th>\n",
       "      <td>1.000000</td>\n",
       "      <td>1.000000</td>\n",
       "      <td>1.000000</td>\n",
       "      <td>1.000000</td>\n",
       "      <td>1.000000</td>\n",
       "    </tr>\n",
       "    <tr>\n",
       "      <th>VAR_0009_False</th>\n",
       "      <td>1.000000</td>\n",
       "      <td>1.000000</td>\n",
       "      <td>1.000000</td>\n",
       "      <td>1.000000</td>\n",
       "      <td>1.000000</td>\n",
       "    </tr>\n",
       "  </tbody>\n",
       "</table>\n",
       "</div>"
      ],
      "text/plain": [
       "                       0         1         2         3         4\n",
       "VAR_0002        0.428298  0.013384  0.221797  0.458891  0.137667\n",
       "VAR_0003        0.000000  0.137662  0.007792  0.779221  0.677922\n",
       "VAR_0004        0.376499  0.389458  0.303301  0.280186  0.175116\n",
       "VAR_0006        0.000000  0.200000  0.000000  0.000000  0.000000\n",
       "VAR_0007        0.000000  0.000000  0.000000  0.000000  0.000000\n",
       "target          0.000000  0.000000  0.000000  0.000000  1.000000\n",
       "VAR_0008_False  1.000000  1.000000  1.000000  1.000000  1.000000\n",
       "VAR_0009_False  1.000000  1.000000  1.000000  1.000000  1.000000"
      ]
     },
     "execution_count": 29,
     "metadata": {},
     "output_type": "execute_result"
    }
   ],
   "source": [
    "df.head().T"
   ]
  },
  {
   "cell_type": "code",
   "execution_count": 27,
   "metadata": {
    "collapsed": false
   },
   "outputs": [
    {
     "data": {
      "text/html": [
       "<div>\n",
       "<table border=\"1\" class=\"dataframe\">\n",
       "  <thead>\n",
       "    <tr style=\"text-align: right;\">\n",
       "      <th></th>\n",
       "      <th>0</th>\n",
       "      <th>1</th>\n",
       "      <th>2</th>\n",
       "      <th>3</th>\n",
       "      <th>4</th>\n",
       "    </tr>\n",
       "  </thead>\n",
       "  <tbody>\n",
       "    <tr>\n",
       "      <th>VAR_0002</th>\n",
       "      <td>0.428298</td>\n",
       "      <td>0.013384</td>\n",
       "      <td>0.221797</td>\n",
       "      <td>0.458891</td>\n",
       "      <td>0.137667</td>\n",
       "    </tr>\n",
       "    <tr>\n",
       "      <th>VAR_0003</th>\n",
       "      <td>0.000000</td>\n",
       "      <td>0.137662</td>\n",
       "      <td>0.007792</td>\n",
       "      <td>0.779221</td>\n",
       "      <td>0.677922</td>\n",
       "    </tr>\n",
       "    <tr>\n",
       "      <th>VAR_0004</th>\n",
       "      <td>0.376499</td>\n",
       "      <td>0.389458</td>\n",
       "      <td>0.303301</td>\n",
       "      <td>0.280186</td>\n",
       "      <td>0.175116</td>\n",
       "    </tr>\n",
       "    <tr>\n",
       "      <th>VAR_0006</th>\n",
       "      <td>0.000000</td>\n",
       "      <td>0.200000</td>\n",
       "      <td>0.000000</td>\n",
       "      <td>0.000000</td>\n",
       "      <td>0.000000</td>\n",
       "    </tr>\n",
       "    <tr>\n",
       "      <th>VAR_0007</th>\n",
       "      <td>0.000000</td>\n",
       "      <td>0.000000</td>\n",
       "      <td>0.000000</td>\n",
       "      <td>0.000000</td>\n",
       "      <td>0.000000</td>\n",
       "    </tr>\n",
       "    <tr>\n",
       "      <th>target</th>\n",
       "      <td>0.000000</td>\n",
       "      <td>0.000000</td>\n",
       "      <td>0.000000</td>\n",
       "      <td>0.000000</td>\n",
       "      <td>1.000000</td>\n",
       "    </tr>\n",
       "    <tr>\n",
       "      <th>VAR_0008_False</th>\n",
       "      <td>0.000000</td>\n",
       "      <td>0.000000</td>\n",
       "      <td>0.000000</td>\n",
       "      <td>0.000000</td>\n",
       "      <td>0.000000</td>\n",
       "    </tr>\n",
       "    <tr>\n",
       "      <th>VAR_0009_False</th>\n",
       "      <td>0.000000</td>\n",
       "      <td>0.000000</td>\n",
       "      <td>0.000000</td>\n",
       "      <td>0.000000</td>\n",
       "      <td>0.000000</td>\n",
       "    </tr>\n",
       "  </tbody>\n",
       "</table>\n",
       "</div>"
      ],
      "text/plain": [
       "                       0         1         2         3         4\n",
       "VAR_0002        0.428298  0.013384  0.221797  0.458891  0.137667\n",
       "VAR_0003        0.000000  0.137662  0.007792  0.779221  0.677922\n",
       "VAR_0004        0.376499  0.389458  0.303301  0.280186  0.175116\n",
       "VAR_0006        0.000000  0.200000  0.000000  0.000000  0.000000\n",
       "VAR_0007        0.000000  0.000000  0.000000  0.000000  0.000000\n",
       "target          0.000000  0.000000  0.000000  0.000000  1.000000\n",
       "VAR_0008_False  0.000000  0.000000  0.000000  0.000000  0.000000\n",
       "VAR_0009_False  0.000000  0.000000  0.000000  0.000000  0.000000"
      ]
     },
     "execution_count": 27,
     "metadata": {},
     "output_type": "execute_result"
    }
   ],
   "source": [
    "## Another method of doing min / max scaling using sklearn preprocessing\n",
    "\n",
    "from sklearn import preprocessing\n",
    "min_max_scaler = preprocessing.MinMaxScaler()\n",
    "np_scaled = min_max_scaler.fit_transform(df)\n",
    "type(np_scaled)\n",
    "\n",
    "df_normalized = pd.DataFrame(np_scaled,columns=df.columns)\n",
    "df_normalized.head().T\n"
   ]
  },
  {
   "cell_type": "code",
   "execution_count": 32,
   "metadata": {
    "collapsed": false
   },
   "outputs": [
    {
     "name": "stdout",
     "output_type": "stream",
     "text": [
      "Training set has 105802 samples.\n",
      "Testing set has 26451 samples.\n"
     ]
    }
   ],
   "source": [
    "# Import train_test_split\n",
    "from sklearn.cross_validation import train_test_split\n",
    "\n",
    "# Split the 'features' and 'income' data into training and testing sets\n",
    "X_train, X_test, y_train, y_test = train_test_split(df, df.target, test_size = 0.2, random_state = 0)\n",
    "\n",
    "# Show the results of the split\n",
    "print \"Training set has {} samples.\".format(X_train.shape[0])\n",
    "print \"Testing set has {} samples.\".format(X_test.shape[0])"
   ]
  },
  {
   "cell_type": "code",
   "execution_count": 33,
   "metadata": {
    "collapsed": false
   },
   "outputs": [
    {
     "name": "stdout",
     "output_type": "stream",
     "text": [
      "0.775722576133\n"
     ]
    }
   ],
   "source": [
    "## Make a naive prediction that all target values are zero\n",
    "\n",
    "## To get the number of zero values, it will be the length of the vector minus the sum of the values\n",
    "## Then divide by the length of the vector to get the accuracy\n",
    "accuracy = float(len(y_train)-sum(y_train))/len(y_train)\n",
    "\n",
    "print accuracy\n",
    "\n",
    "## So our model would have to improve on this accuracy"
   ]
  },
  {
   "cell_type": "code",
   "execution_count": 43,
   "metadata": {
    "collapsed": false
   },
   "outputs": [],
   "source": [
    "# TODO: Import two metrics from sklearn - fbeta_score and accuracy_score\n",
    "from sklearn.metrics import accuracy_score, fbeta_score\n",
    "\n",
    "from time import time\n",
    "\n",
    "def train_predict(learner, sample_size, X_train, y_train, X_test, y_test): \n",
    "    '''\n",
    "    inputs:\n",
    "       - learner: the learning algorithm to be trained and predicted on\n",
    "       - sample_size: the size of samples (number) to be drawn from training set\n",
    "       - X_train: features training set\n",
    "       - y_train: income training set\n",
    "       - X_test: features testing set\n",
    "       - y_test: income testing set\n",
    "    '''    \n",
    "    results = {}\n",
    "    \n",
    "    # TODO: Fit the learner to the training data using slicing with 'sample_size'\n",
    "    start = time() # Get start time\n",
    "    learner.fit(X_train[:sample_size],y_train[:sample_size])\n",
    "    end = time() # Get end time\n",
    "    print \"Type of X_train is %s \" % type(X_train)\n",
    "    print \"Shape of X_train is %s \" % X_train.shape[0]\n",
    "    print \"Shape of y_train is %s \" % y_train[:sample_size].shape[0]\n",
    "    \n",
    "    # TODO: Calculate the training time\n",
    "    results['train_time'] = end-start\n",
    "    print \"Train time is %s \" % results['train_time']\n",
    "        \n",
    "    # TODO: Get the predictions on the test set,\n",
    "    #       then get predictions on the first 300 training samples\n",
    "    start = time() # Get start time\n",
    "    #predictions_test = learner.predict(X_test[:300])\n",
    "    predictions_test = learner.predict(X_test)\n",
    "    predictions_train = learner.predict(X_train)\n",
    "    end = time() # Get end time\n",
    "    \n",
    "    # TODO: Calculate the total prediction time\n",
    "    results['pred_time'] = end-start\n",
    "    print \"Pred time is %s \" % results['pred_time']\n",
    "            \n",
    "    # TODO: Compute accuracy on the first 300 training samples\n",
    "    results['acc_train'] = accuracy_score(predictions_train, y_train)\n",
    "        \n",
    "    # TODO: Compute accuracy on test set\n",
    "    results['acc_test'] = accuracy_score(predictions_test, y_test)\n",
    "    \n",
    "    # TODO: Compute F-score on the the first 300 training samples\n",
    "    #results['f_train'] = fbeta_score(predictions_train, y_train[:300], average=None, beta=0.5)\n",
    "    results['f_train'] = fbeta_score(predictions_train, y_train, beta=0.5)\n",
    "        \n",
    "    # TODO: Compute F-score on the test set\n",
    "    #results['f_test'] = fbeta_score(predictions_test, y_test[:300], average=None, beta=0.5)\n",
    "    results['f_test'] = fbeta_score(predictions_test, y_test, beta=0.5)\n",
    "       \n",
    "    # Success\n",
    "    print \"{} trained on {} samples.\".format(learner.__class__.__name__, sample_size)\n",
    "        \n",
    "    # Return the results\n",
    "    return results"
   ]
  },
  {
   "cell_type": "code",
   "execution_count": 45,
   "metadata": {
    "collapsed": true
   },
   "outputs": [],
   "source": [
    "log_reg_lrnr = LogisticRegression()"
   ]
  },
  {
   "cell_type": "code",
   "execution_count": 47,
   "metadata": {
    "collapsed": false
   },
   "outputs": [
    {
     "data": {
      "text/plain": [
       "LogisticRegression(C=1.0, class_weight=None, dual=False, fit_intercept=True,\n",
       "          intercept_scaling=1, max_iter=100, multi_class='ovr', n_jobs=1,\n",
       "          penalty='l2', random_state=None, solver='liblinear', tol=0.0001,\n",
       "          verbose=0, warm_start=False)"
      ]
     },
     "execution_count": 47,
     "metadata": {},
     "output_type": "execute_result"
    }
   ],
   "source": [
    "log_reg_lrnr.fit(X_train,y_train)"
   ]
  },
  {
   "cell_type": "code",
   "execution_count": 48,
   "metadata": {
    "collapsed": false
   },
   "outputs": [],
   "source": [
    "predictions_test = log_reg_lrnr.predict(X_test)"
   ]
  },
  {
   "cell_type": "code",
   "execution_count": 51,
   "metadata": {
    "collapsed": false
   },
   "outputs": [],
   "source": [
    "test_df =X_test"
   ]
  },
  {
   "cell_type": "code",
   "execution_count": 60,
   "metadata": {
    "collapsed": false
   },
   "outputs": [
    {
     "data": {
      "text/plain": [
       "26451"
      ]
     },
     "execution_count": 60,
     "metadata": {},
     "output_type": "execute_result"
    }
   ],
   "source": [
    "len(test_df)"
   ]
  },
  {
   "cell_type": "code",
   "execution_count": 61,
   "metadata": {
    "collapsed": false
   },
   "outputs": [],
   "source": [
    "pred_test_df = pd.DataFrame(predictions_test)"
   ]
  },
  {
   "cell_type": "code",
   "execution_count": 54,
   "metadata": {
    "collapsed": false
   },
   "outputs": [
    {
     "data": {
      "text/plain": [
       "numpy.ndarray"
      ]
     },
     "execution_count": 54,
     "metadata": {},
     "output_type": "execute_result"
    }
   ],
   "source": [
    "type(predictions_test)"
   ]
  },
  {
   "cell_type": "code",
   "execution_count": 64,
   "metadata": {
    "collapsed": false
   },
   "outputs": [
    {
     "data": {
      "text/html": [
       "<div>\n",
       "<table border=\"1\" class=\"dataframe\">\n",
       "  <thead>\n",
       "    <tr style=\"text-align: right;\">\n",
       "      <th></th>\n",
       "      <th>15998</th>\n",
       "    </tr>\n",
       "  </thead>\n",
       "  <tbody>\n",
       "    <tr>\n",
       "      <th>0</th>\n",
       "      <td>0.0</td>\n",
       "    </tr>\n",
       "  </tbody>\n",
       "</table>\n",
       "</div>"
      ],
      "text/plain": [
       "   15998\n",
       "0    0.0"
      ]
     },
     "execution_count": 64,
     "metadata": {},
     "output_type": "execute_result"
    }
   ],
   "source": [
    "pred_test_df[pred_test_df.index==15998].head().T"
   ]
  },
  {
   "cell_type": "code",
   "execution_count": 58,
   "metadata": {
    "collapsed": false
   },
   "outputs": [
    {
     "data": {
      "text/html": [
       "<div>\n",
       "<table border=\"1\" class=\"dataframe\">\n",
       "  <thead>\n",
       "    <tr style=\"text-align: right;\">\n",
       "      <th></th>\n",
       "      <th>117171</th>\n",
       "    </tr>\n",
       "  </thead>\n",
       "  <tbody>\n",
       "    <tr>\n",
       "      <th>VAR_0002</th>\n",
       "      <td>0.116635</td>\n",
       "    </tr>\n",
       "    <tr>\n",
       "      <th>VAR_0003</th>\n",
       "      <td>0.376623</td>\n",
       "    </tr>\n",
       "    <tr>\n",
       "      <th>VAR_0004</th>\n",
       "      <td>0.218457</td>\n",
       "    </tr>\n",
       "    <tr>\n",
       "      <th>VAR_0006</th>\n",
       "      <td>0.000000</td>\n",
       "    </tr>\n",
       "    <tr>\n",
       "      <th>VAR_0007</th>\n",
       "      <td>0.000000</td>\n",
       "    </tr>\n",
       "    <tr>\n",
       "      <th>target</th>\n",
       "      <td>0.000000</td>\n",
       "    </tr>\n",
       "    <tr>\n",
       "      <th>VAR_0008_False</th>\n",
       "      <td>1.000000</td>\n",
       "    </tr>\n",
       "    <tr>\n",
       "      <th>VAR_0009_False</th>\n",
       "      <td>1.000000</td>\n",
       "    </tr>\n",
       "    <tr>\n",
       "      <th>0</th>\n",
       "      <td>NaN</td>\n",
       "    </tr>\n",
       "  </tbody>\n",
       "</table>\n",
       "</div>"
      ],
      "text/plain": [
       "                  117171\n",
       "VAR_0002        0.116635\n",
       "VAR_0003        0.376623\n",
       "VAR_0004        0.218457\n",
       "VAR_0006        0.000000\n",
       "VAR_0007        0.000000\n",
       "target          0.000000\n",
       "VAR_0008_False  1.000000\n",
       "VAR_0009_False  1.000000\n",
       "0                    NaN"
      ]
     },
     "execution_count": 58,
     "metadata": {},
     "output_type": "execute_result"
    }
   ],
   "source": [
    "test_df[test_df.index==117171].head().T"
   ]
  },
  {
   "cell_type": "code",
   "execution_count": 63,
   "metadata": {
    "collapsed": false
   },
   "outputs": [
    {
     "data": {
      "text/html": [
       "<div>\n",
       "<table border=\"1\" class=\"dataframe\">\n",
       "  <thead>\n",
       "    <tr style=\"text-align: right;\">\n",
       "      <th></th>\n",
       "      <th>117171</th>\n",
       "      <th>60486</th>\n",
       "      <th>15998</th>\n",
       "      <th>105251</th>\n",
       "      <th>71188</th>\n",
       "    </tr>\n",
       "  </thead>\n",
       "  <tbody>\n",
       "    <tr>\n",
       "      <th>VAR_0002</th>\n",
       "      <td>0.116635</td>\n",
       "      <td>0.007648</td>\n",
       "      <td>0.003824</td>\n",
       "      <td>0.141491</td>\n",
       "      <td>0.000000</td>\n",
       "    </tr>\n",
       "    <tr>\n",
       "      <th>VAR_0003</th>\n",
       "      <td>0.376623</td>\n",
       "      <td>0.618182</td>\n",
       "      <td>0.111688</td>\n",
       "      <td>0.127273</td>\n",
       "      <td>0.000000</td>\n",
       "    </tr>\n",
       "    <tr>\n",
       "      <th>VAR_0004</th>\n",
       "      <td>0.218457</td>\n",
       "      <td>0.263637</td>\n",
       "      <td>0.294458</td>\n",
       "      <td>0.096314</td>\n",
       "      <td>0.123107</td>\n",
       "    </tr>\n",
       "    <tr>\n",
       "      <th>VAR_0006</th>\n",
       "      <td>0.000000</td>\n",
       "      <td>0.200000</td>\n",
       "      <td>0.000000</td>\n",
       "      <td>0.800000</td>\n",
       "      <td>0.000000</td>\n",
       "    </tr>\n",
       "    <tr>\n",
       "      <th>VAR_0007</th>\n",
       "      <td>0.000000</td>\n",
       "      <td>0.333333</td>\n",
       "      <td>0.000000</td>\n",
       "      <td>0.333333</td>\n",
       "      <td>0.000000</td>\n",
       "    </tr>\n",
       "    <tr>\n",
       "      <th>target</th>\n",
       "      <td>0.000000</td>\n",
       "      <td>0.000000</td>\n",
       "      <td>0.000000</td>\n",
       "      <td>0.000000</td>\n",
       "      <td>1.000000</td>\n",
       "    </tr>\n",
       "    <tr>\n",
       "      <th>VAR_0008_False</th>\n",
       "      <td>1.000000</td>\n",
       "      <td>1.000000</td>\n",
       "      <td>1.000000</td>\n",
       "      <td>1.000000</td>\n",
       "      <td>1.000000</td>\n",
       "    </tr>\n",
       "    <tr>\n",
       "      <th>VAR_0009_False</th>\n",
       "      <td>1.000000</td>\n",
       "      <td>1.000000</td>\n",
       "      <td>1.000000</td>\n",
       "      <td>1.000000</td>\n",
       "      <td>1.000000</td>\n",
       "    </tr>\n",
       "    <tr>\n",
       "      <th>0</th>\n",
       "      <td>NaN</td>\n",
       "      <td>NaN</td>\n",
       "      <td>0.000000</td>\n",
       "      <td>NaN</td>\n",
       "      <td>NaN</td>\n",
       "    </tr>\n",
       "  </tbody>\n",
       "</table>\n",
       "</div>"
      ],
      "text/plain": [
       "                  117171    60486     15998     105251    71188 \n",
       "VAR_0002        0.116635  0.007648  0.003824  0.141491  0.000000\n",
       "VAR_0003        0.376623  0.618182  0.111688  0.127273  0.000000\n",
       "VAR_0004        0.218457  0.263637  0.294458  0.096314  0.123107\n",
       "VAR_0006        0.000000  0.200000  0.000000  0.800000  0.000000\n",
       "VAR_0007        0.000000  0.333333  0.000000  0.333333  0.000000\n",
       "target          0.000000  0.000000  0.000000  0.000000  1.000000\n",
       "VAR_0008_False  1.000000  1.000000  1.000000  1.000000  1.000000\n",
       "VAR_0009_False  1.000000  1.000000  1.000000  1.000000  1.000000\n",
       "0                    NaN       NaN  0.000000       NaN       NaN"
      ]
     },
     "execution_count": 63,
     "metadata": {},
     "output_type": "execute_result"
    }
   ],
   "source": [
    "test_df.head().T"
   ]
  },
  {
   "cell_type": "code",
   "execution_count": 56,
   "metadata": {
    "collapsed": false
   },
   "outputs": [],
   "source": [
    "test_df = pd.concat([test_df, pd.DataFrame(predictions_test)], axis=1, join_axes=[test_df.index])"
   ]
  },
  {
   "cell_type": "code",
   "execution_count": 44,
   "metadata": {
    "collapsed": false
   },
   "outputs": [
    {
     "name": "stdout",
     "output_type": "stream",
     "text": [
      "Type of X_train is <class 'pandas.core.frame.DataFrame'> \n",
      "Shape of X_train is 105802 \n",
      "Shape of y_train is 1322 \n",
      "Train time is 0.0119998455048 \n",
      "Pred time is 0.156999826431 \n",
      "LogisticRegression trained on 1322 samples.\n",
      "Type of X_train is <class 'pandas.core.frame.DataFrame'> \n",
      "Shape of X_train is 105802 \n",
      "Shape of y_train is 13225 \n",
      "Train time is 0.0249998569489 \n",
      "Pred time is 0.00899982452393 \n",
      "LogisticRegression trained on 13225 samples.\n",
      "Type of X_train is <class 'pandas.core.frame.DataFrame'> \n",
      "Shape of X_train is 105802 \n",
      "Shape of y_train is 105802 \n",
      "Train time is 0.268000125885 \n",
      "Pred time is 0.00799989700317 \n",
      "LogisticRegression trained on 132253 samples.\n",
      "Type of X_train is <class 'pandas.core.frame.DataFrame'> \n",
      "Shape of X_train is 105802 \n",
      "Shape of y_train is 1322 \n",
      "Train time is 0.00600004196167 \n",
      "Pred time is 0.00699996948242 \n",
      "LinearSVC trained on 1322 samples.\n",
      "Type of X_train is <class 'pandas.core.frame.DataFrame'> \n",
      "Shape of X_train is 105802 \n",
      "Shape of y_train is 13225 \n",
      "Train time is 0.074000120163 \n",
      "Pred time is 0.00800013542175 \n",
      "LinearSVC trained on 13225 samples.\n",
      "Type of X_train is <class 'pandas.core.frame.DataFrame'> \n",
      "Shape of X_train is 105802 \n",
      "Shape of y_train is 105802 \n",
      "Train time is 1.44800019264 \n",
      "Pred time is 0.00799989700317 \n",
      "LinearSVC trained on 132253 samples.\n",
      "Type of X_train is <class 'pandas.core.frame.DataFrame'> \n",
      "Shape of X_train is 105802 \n",
      "Shape of y_train is 1322 \n",
      "Train time is 0.00200009346008 \n",
      "Pred time is 1.45700001717 \n",
      "KNeighborsClassifier trained on 1322 samples.\n",
      "Type of X_train is <class 'pandas.core.frame.DataFrame'> \n",
      "Shape of X_train is 105802 \n",
      "Shape of y_train is 13225 \n",
      "Train time is 0.0510001182556 \n",
      "Pred time is 3.38800001144 \n",
      "KNeighborsClassifier trained on 13225 samples.\n",
      "Type of X_train is <class 'pandas.core.frame.DataFrame'> \n",
      "Shape of X_train is 105802 \n",
      "Shape of y_train is 105802 \n",
      "Train time is 2.15100002289 \n",
      "Pred time is 8.72799992561 \n",
      "KNeighborsClassifier trained on 132253 samples.\n",
      "After train predict, before vs.evaluate\n",
      "{'LinearSVC': {0: {'pred_time': 0.006999969482421875, 'f_test': 1.0, 'train_time': 0.006000041961669922, 'acc_train': 1.0, 'acc_test': 1.0, 'f_train': 1.0}, 1: {'pred_time': 0.00800013542175293, 'f_test': 1.0, 'train_time': 0.07400012016296387, 'acc_train': 1.0, 'acc_test': 1.0, 'f_train': 1.0}, 2: {'pred_time': 0.007999897003173828, 'f_test': 1.0, 'train_time': 1.448000192642212, 'acc_train': 1.0, 'acc_test': 1.0, 'f_train': 1.0}}, 'LogisticRegression': {0: {'pred_time': 0.15699982643127441, 'f_test': 1.0, 'train_time': 0.011999845504760742, 'acc_train': 1.0, 'acc_test': 1.0, 'f_train': 1.0}, 1: {'pred_time': 0.008999824523925781, 'f_test': 1.0, 'train_time': 0.02499985694885254, 'acc_train': 1.0, 'acc_test': 1.0, 'f_train': 1.0}, 2: {'pred_time': 0.007999897003173828, 'f_test': 1.0, 'train_time': 0.26800012588500977, 'acc_train': 1.0, 'acc_test': 1.0, 'f_train': 1.0}}, 'KNeighborsClassifier': {0: {'pred_time': 1.4570000171661377, 'f_test': 1.0, 'train_time': 0.002000093460083008, 'acc_train': 1.0, 'acc_test': 1.0, 'f_train': 1.0}, 1: {'pred_time': 3.388000011444092, 'f_test': 1.0, 'train_time': 0.051000118255615234, 'acc_train': 1.0, 'acc_test': 1.0, 'f_train': 1.0}, 2: {'pred_time': 8.727999925613403, 'f_test': 1.0, 'train_time': 2.1510000228881836, 'acc_train': 1.0, 'acc_test': 1.0, 'f_train': 1.0}}}\n",
      "0.775722576133\n"
     ]
    },
    {
     "ename": "NameError",
     "evalue": "name 'fscore' is not defined",
     "output_type": "error",
     "traceback": [
      "\u001b[0;31m---------------------------------------------------------------------------\u001b[0m",
      "\u001b[0;31mNameError\u001b[0m                                 Traceback (most recent call last)",
      "\u001b[0;32m<ipython-input-44-6ffbf6796f26>\u001b[0m in \u001b[0;36m<module>\u001b[0;34m()\u001b[0m\n\u001b[1;32m     29\u001b[0m \u001b[1;32mprint\u001b[0m \u001b[0mresults\u001b[0m\u001b[1;33m\u001b[0m\u001b[0m\n\u001b[1;32m     30\u001b[0m \u001b[1;32mprint\u001b[0m \u001b[0maccuracy\u001b[0m\u001b[1;33m\u001b[0m\u001b[0m\n\u001b[0;32m---> 31\u001b[0;31m \u001b[1;32mprint\u001b[0m \u001b[0mfscore\u001b[0m\u001b[1;33m\u001b[0m\u001b[0m\n\u001b[0m\u001b[1;32m     32\u001b[0m \u001b[0mvs\u001b[0m\u001b[1;33m.\u001b[0m\u001b[0mevaluate\u001b[0m\u001b[1;33m(\u001b[0m\u001b[0mresults\u001b[0m\u001b[1;33m,\u001b[0m \u001b[0maccuracy\u001b[0m\u001b[1;33m,\u001b[0m \u001b[0mfscore\u001b[0m\u001b[1;33m)\u001b[0m\u001b[1;33m\u001b[0m\u001b[0m\n",
      "\u001b[0;31mNameError\u001b[0m: name 'fscore' is not defined"
     ]
    }
   ],
   "source": [
    "# TODO: Import the three supervised learning models from sklearn\n",
    "from sklearn.tree import DecisionTreeClassifier\n",
    "from sklearn.svm import SVC, LinearSVC\n",
    "from sklearn.neighbors import KNeighborsClassifier\n",
    "from sklearn.linear_model import LogisticRegression\n",
    "from sklearn.ensemble import RandomForestClassifier\n",
    "from sklearn.linear_model import SGDClassifier\n",
    "\n",
    "# TODO: Initialize the three models\n",
    "clf_A = LogisticRegression()\n",
    "clf_B = LinearSVC()\n",
    "clf_C = KNeighborsClassifier()\n",
    "\n",
    "# TODO: Calculate the number of samples for 1%, 10%, and 100% of the training data\n",
    "samples_1 = int(len(df) * 0.01)\n",
    "samples_10 = int(len(df) * 0.1)\n",
    "samples_100 = len(df)\n",
    "\n",
    "# Collect results on the learners\n",
    "results = {}\n",
    "for clf in [clf_A, clf_B, clf_C]:\n",
    "    clf_name = clf.__class__.__name__\n",
    "    results[clf_name] = {}\n",
    "    for i, samples in enumerate([samples_1, samples_10, samples_100]):\n",
    "        results[clf_name][i] = \\\n",
    "        train_predict(clf, samples, X_train, y_train, X_test, y_test)\n",
    "\n",
    "# Run metrics visualization for the three supervised learning models chosen\n",
    "print \"After train predict, before vs.evaluate\"\n",
    "print results\n",
    "#print accuracy\n",
    "#print fscore\n",
    "#vs.evaluate(results, accuracy, fscore)"
   ]
  },
  {
   "cell_type": "code",
   "execution_count": null,
   "metadata": {
    "collapsed": true
   },
   "outputs": [],
   "source": []
  }
 ],
 "metadata": {
  "anaconda-cloud": {},
  "kernelspec": {
   "display_name": "Python [conda root]",
   "language": "python",
   "name": "conda-root-py"
  },
  "language_info": {
   "codemirror_mode": {
    "name": "ipython",
    "version": 2
   },
   "file_extension": ".py",
   "mimetype": "text/x-python",
   "name": "python",
   "nbconvert_exporter": "python",
   "pygments_lexer": "ipython2",
   "version": "2.7.12"
  }
 },
 "nbformat": 4,
 "nbformat_minor": 1
}
